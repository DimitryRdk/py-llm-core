{
 "cells": [
  {
   "cell_type": "code",
   "execution_count": 1,
   "id": "957951fd-d8fc-4d3c-9c52-0ff48cafc0c7",
   "metadata": {},
   "outputs": [],
   "source": [
    "%load_ext autoreload\n",
    "%autoreload all\n",
    "%load_ext dotenv"
   ]
  },
  {
   "cell_type": "code",
   "execution_count": 2,
   "id": "43460e27-7420-494b-bc5a-36e32ecfa3c9",
   "metadata": {},
   "outputs": [],
   "source": [
    "%dotenv -o ./vars.env"
   ]
  },
  {
   "cell_type": "code",
   "execution_count": 3,
   "id": "f5939670-f7e1-493e-80a3-ace13ec48fd4",
   "metadata": {},
   "outputs": [
    {
     "name": "stdout",
     "output_type": "stream",
     "text": [
      "The wind you're referring to is known as the Mistral. It's a strong, cold, northworthly wind that blows from southern France to the Mediterranean, especially in the Rhône Valley. However, the part about it dehorning oxen is more of a colorful exaggeration than a literal truth. The wind is indeed powerful, but not to the extent of dehorning oxen.\n"
     ]
    }
   ],
   "source": [
    "# Sample code from Mistral Official Docs - La Plateforme\n",
    "\n",
    "import os\n",
    "\n",
    "from mistralai.client import MistralClient\n",
    "from mistralai.models.chat_completion import ChatMessage\n",
    "\n",
    "api_key = os.environ[\"MISTRAL_API_KEY\"]\n",
    "model = \"mistral-large-latest\"\n",
    "\n",
    "client = MistralClient(api_key=api_key)\n",
    "\n",
    "messages = [\n",
    "    ChatMessage(\n",
    "        role=\"user\",\n",
    "        content=\"What is the name of the wind in the south of France that is so strong it dehorns the oxen ?\"\n",
    "    )\n",
    "]\n",
    "\n",
    "chat_response = client.chat(\n",
    "    model=model,\n",
    "    messages=messages,\n",
    ")\n",
    "\n",
    "print(chat_response.choices[0].message.content)"
   ]
  },
  {
   "cell_type": "code",
   "execution_count": 4,
   "id": "7402dd29-fb0d-4e37-9b38-d453419e52ca",
   "metadata": {},
   "outputs": [
    {
     "name": "stdout",
     "output_type": "stream",
     "text": [
      "The wind you're referring to is known as the Mistral. This wind is indeed very strong and blows from the north down through the Rhône Valley in the south of France. However, the part about it being so strong that it dehorns the oxen is more of a colorful legend than a factual occurrence.\n"
     ]
    }
   ],
   "source": [
    "# Sample code from Mistral Official Docs - Azure Deployment\n",
    "\n",
    "import os\n",
    "from mistralai.client import MistralClient\n",
    "from mistralai.models.chat_completion import ChatMessage\n",
    "\n",
    "endpoint = os.environ[\"AZURE_AI_MISTRAL_LARGE_ENDPOINT\"]\n",
    "api_key = os.environ[\"AZURE_AI_MISTRAL_LARGE_KEY\"]\n",
    "model = \"azureai\"\n",
    "\n",
    "client = MistralClient(api_key=api_key, endpoint=endpoint)\n",
    "\n",
    "messages = [\n",
    "    ChatMessage(\n",
    "        role=\"user\",\n",
    "        content=\"What is the name of the wind in the south of France that is so strong it dehorns the oxen ?\"\n",
    "    )\n",
    "]\n",
    "\n",
    "chat_response = client.chat(\n",
    "    model=model,\n",
    "    messages=messages,\n",
    ")\n",
    "\n",
    "print(chat_response.choices[0].message.content)"
   ]
  },
  {
   "cell_type": "code",
   "execution_count": 11,
   "id": "30dff332-e2c0-4df4-9869-3a29bc31f712",
   "metadata": {},
   "outputs": [
    {
     "name": "stdout",
     "output_type": "stream",
     "text": [
      "The wind you're referring to is known as the Mistral. It's a strong, cold, northwesterly wind that blows from southern France into the Gulf of Lion in the Mediterranean. The wind is so powerful that it can indeed, over time, affect the shape of trees, landscapes, and according to folklore, even dehorn oxen. However, this is more of a myth and not literally true. The wind is more likely to cause discomfort to animals and humans due to its strength and the cold temperatures it brings.\n"
     ]
    }
   ],
   "source": [
    "# Basic LLM invocation\n",
    "\n",
    "from llm_core.llm import MistralAILarge\n",
    "\n",
    "llm = MistralAILarge()\n",
    "response = llm.ask('What is the name of the wind in the south of France that is so strong it dehorns the oxen ?')\n",
    "print(response.choices[0].message.content)"
   ]
  },
  {
   "cell_type": "code",
   "execution_count": 21,
   "id": "eaa9460a-c0f3-453f-bb80-c8d3e81e7f38",
   "metadata": {},
   "outputs": [
    {
     "name": "stdout",
     "output_type": "stream",
     "text": [
      "Book(title='Foundation', summary='Foundation is a science fiction novel by American writer Isaac Asimov. It is the first published in his Foundation Trilogy (later expanded into the Foundation series). Collectively they tell the early story of the Foundation, an institute founded by psychohistorian Hari Seldon to preserve the best of galactic civilization after the collapse of the Galactic Empire.', author='Isaac Asimov', published_year=1951)\n"
     ]
    }
   ],
   "source": [
    "from dataclasses import dataclass\n",
    "from llm_core.parsers import MistralAILargeParser\n",
    "\n",
    "@dataclass\n",
    "class Book:\n",
    "    title: str\n",
    "    summary: str\n",
    "    author: str\n",
    "    published_year: int\n",
    "\n",
    "text = \"\"\"Foundation is a science fiction novel by American writer\n",
    "Isaac Asimov. It is the first published in his Foundation Trilogy (later\n",
    "expanded into the Foundation series). Foundation is a cycle of five\n",
    "interrelated short stories, first published as a single book by Gnome Press\n",
    "in 1951. Collectively they tell the early story of the Foundation,\n",
    "an institute founded by psychohistorian Hari Seldon to preserve the best\n",
    "of galactic civilization after the collapse of the Galactic Empire.\n",
    "\"\"\"\n",
    "\n",
    "with MistralAILargeParser(Book, model=model) as parser:\n",
    "    book = parser.parse(text)\n",
    "    print(book)"
   ]
  },
  {
   "cell_type": "code",
   "execution_count": 3,
   "id": "7c42cffd-4875-491b-9de7-7eb848a46e4c",
   "metadata": {},
   "outputs": [
    {
     "name": "stdout",
     "output_type": "stream",
     "text": [
      "Recipe(title='Boeuf bourguignon', steps=[RecipeStep(step_title='Prepare the ingredients', step_instructions='Cut the beef into 2-inch cubes. Slice the bacon into lardons. Peel and chop the onions and carrots. Peel and crush the garlic cloves. Preheat the oven to 350 degrees F (175 degrees C).'), RecipeStep(step_title='Brown the beef', step_instructions='Heat a large Dutch oven over medium-high heat. Add the bacon lardons and cook until crispy. Remove the bacon with a slotted spoon and set aside. In the same pot, sear the beef cubes in batches until browned on all sides. Remove the beef and set aside.'), RecipeStep(step_title='Cook the vegetables', step_instructions='In the same pot, add the chopped onions, carrots, and crushed garlic. Cook until the vegetables are soft and lightly browned.'), RecipeStep(step_title='Deglaze and combine', step_instructions='Pour in the red wine and beef broth. Scrape the bottom of the pot to deglaze. Add the tomato paste, thyme, bay leaves, and browned beef. Stir well to combine.'), RecipeStep(step_title='Bake in the oven', step_instructions='Cover the pot and place it in the preheated oven. Bake for 2 hours, stirring occasionally.'), RecipeStep(step_title='Add pearl onions and mushrooms', step_instructions='After 2 hours, add the pearl onions and mushrooms to the pot. Stir well and continue cooking for another 30 minutes.'), RecipeStep(step_title='Season and serve', step_instructions='Remove the pot from the oven. Season the Boeuf bourguignon with salt and pepper to taste. Serve hot, garnished with fresh parsley.')], ingredients=['3 pounds beef chuck, cut into 2-inch cubes', '8 ounces bacon, sliced into lardons', '2 onions, peeled and chopped', '4 carrots, peeled and chopped', '4 garlic cloves, peeled and crushed', '1 bottle red wine', '2 cups beef broth', '2 tablespoons tomato paste', '1 tablespoon fresh thyme', '2 bay leaves', '1 pound pearl onions, peeled', '1 pound mushrooms, sliced', 'Salt and pepper to taste', 'Fresh parsley for garnish'])\n"
     ]
    }
   ],
   "source": [
    "from typing import List\n",
    "from dataclasses import dataclass\n",
    "\n",
    "from llm_core.assistants import MistralAILargeAssistant\n",
    "\n",
    "@dataclass\n",
    "class RecipeStep:\n",
    "    step_title: str\n",
    "    step_instructions: str\n",
    "\n",
    "@dataclass\n",
    "class Recipe:\n",
    "    system_prompt = \"You are a world-class chef\"\n",
    "    prompt = \"Write a detailed step-by-step recipe to make {dish}\"\n",
    "\n",
    "    title: str\n",
    "    steps: List[RecipeStep]\n",
    "    ingredients: List[str]\n",
    "\n",
    "\n",
    "class Chef:\n",
    "    def generate_recipe(self, dish):\n",
    "        with MistralAILargeAssistant(Recipe) as assistant:\n",
    "            recipe = assistant.process(dish=dish)\n",
    "            return recipe\n",
    "\n",
    "chef = Chef()\n",
    "recipe = chef.generate_recipe(\"Boeuf bourguignon\")\n",
    "print(recipe)"
   ]
  },
  {
   "cell_type": "code",
   "execution_count": null,
   "id": "fb6118ac-bef4-41f9-af7a-8c47849b637d",
   "metadata": {},
   "outputs": [],
   "source": []
  }
 ],
 "metadata": {
  "kernelspec": {
   "display_name": "Python 3 (ipykernel)",
   "language": "python",
   "name": "python3"
  },
  "language_info": {
   "codemirror_mode": {
    "name": "ipython",
    "version": 3
   },
   "file_extension": ".py",
   "mimetype": "text/x-python",
   "name": "python",
   "nbconvert_exporter": "python",
   "pygments_lexer": "ipython3",
   "version": "3.12.2"
  }
 },
 "nbformat": 4,
 "nbformat_minor": 5
}
