{
 "cells": [
  {
   "cell_type": "code",
   "execution_count": 1,
   "id": "957951fd-d8fc-4d3c-9c52-0ff48cafc0c7",
   "metadata": {},
   "outputs": [],
   "source": [
    "%load_ext autoreload\n",
    "%autoreload all\n",
    "%load_ext dotenv"
   ]
  },
  {
   "cell_type": "code",
   "execution_count": 2,
   "id": "43460e27-7420-494b-bc5a-36e32ecfa3c9",
   "metadata": {},
   "outputs": [],
   "source": [
    "%dotenv -o ./vars.env"
   ]
  },
  {
   "cell_type": "code",
   "execution_count": 5,
   "id": "f5939670-f7e1-493e-80a3-ace13ec48fd4",
   "metadata": {},
   "outputs": [
    {
     "name": "stdout",
     "output_type": "stream",
     "text": [
      "The wind you're referring to is known as the Mistral. It's a strong, cold, northwesterly wind that blows from southern France through the Rhône Valley to the Gulf of Lion in the Mediterranean. The wind is so powerful that it can indeed, over time, cause erosion that may make it appear as though it's dehorning oxen, but this is more of a figurative expression than a literal one.\n"
     ]
    }
   ],
   "source": [
    "# Sample code from Mistral Official Docs - La Plateforme\n",
    "\n",
    "import os\n",
    "\n",
    "from mistralai.client import MistralClient\n",
    "from mistralai.models.chat_completion import ChatMessage\n",
    "\n",
    "api_key = os.environ[\"MISTRAL_API_KEY\"]\n",
    "model = \"mistral-large-latest\"\n",
    "\n",
    "client = MistralClient(api_key=api_key)\n",
    "\n",
    "messages = [\n",
    "    ChatMessage(\n",
    "        role=\"user\",\n",
    "        content=\"What is the name of the wind in the south of France that is so strong it dehorns the oxen ?\"\n",
    "    )\n",
    "]\n",
    "\n",
    "chat_response = client.chat(\n",
    "    model=model,\n",
    "    messages=messages,\n",
    ")\n",
    "\n",
    "print(chat_response.choices[0].message.content)"
   ]
  },
  {
   "cell_type": "code",
   "execution_count": 6,
   "id": "7402dd29-fb0d-4e37-9b38-d453419e52ca",
   "metadata": {},
   "outputs": [
    {
     "name": "stdout",
     "output_type": "stream",
     "text": [
      "The wind you're referring to is known as the Mistral. It's a strong, cold, northworthly wind that blows from southern France to the Gulf of Lion in the Mediterranean, and it's famous for its strength. However, the part about it dehorning oxen is a bit of a myth or an exaggeration. While the Mistral can indeed be very powerful, it's not strong enough to physically dehorn oxen.\n"
     ]
    }
   ],
   "source": [
    "# Sample code from Mistral Official Docs - Azure Deployment\n",
    "\n",
    "import os\n",
    "from mistralai.client import MistralClient\n",
    "from mistralai.models.chat_completion import ChatMessage\n",
    "\n",
    "endpoint = os.environ[\"AZURE_AI_MISTRAL_LARGE_ENDPOINT\"]\n",
    "api_key = os.environ[\"AZURE_AI_MISTRAL_LARGE_KEY\"]\n",
    "model = \"azureai\"\n",
    "\n",
    "client = MistralClient(api_key=api_key, endpoint=endpoint)\n",
    "\n",
    "messages = [\n",
    "    ChatMessage(\n",
    "        role=\"user\",\n",
    "        content=\"What is the name of the wind in the south of France that is so strong it dehorns the oxen ?\"\n",
    "    )\n",
    "]\n",
    "\n",
    "chat_response = client.chat(\n",
    "    model=model,\n",
    "    messages=messages,\n",
    ")\n",
    "\n",
    "print(chat_response.choices[0].message.content)"
   ]
  },
  {
   "cell_type": "code",
   "execution_count": 7,
   "id": "30dff332-e2c0-4df4-9869-3a29bc31f712",
   "metadata": {},
   "outputs": [
    {
     "name": "stdout",
     "output_type": "stream",
     "text": [
      "The wind you're referring to is known as the Mistral. It's a strong, cold, northwesterly wind that blows from southern France to the Gulf of Lion in the Mediterranean Sea. The wind is so powerful that it can indeed, over time, affect the shape of trees, buildings, and according to folklore, even dehorn oxen. However, the latter is more of a metaphorical expression of the wind's strength rather than a literal effect.\n"
     ]
    }
   ],
   "source": [
    "# Basic LLM invocation\n",
    "\n",
    "from llm_core.llm import MistralAILarge\n",
    "\n",
    "llm = MistralAILarge()\n",
    "response = llm.ask('What is the name of the wind in the south of France that is so strong it dehorns the oxen ?')\n",
    "print(response.choices[0].message.content)"
   ]
  },
  {
   "cell_type": "code",
   "execution_count": 8,
   "id": "eaa9460a-c0f3-453f-bb80-c8d3e81e7f38",
   "metadata": {},
   "outputs": [
    {
     "name": "stdout",
     "output_type": "stream",
     "text": [
      "Book(title='Foundation', summary='Foundation is a cycle of five interrelated short stories, first published as a single book by Gnome Press in 1951. Collectively they tell the early story of the Foundation, an institute founded by psychohistorian Hari Seldon to preserve the best of galactic civilization after the collapse of the Galactic Empire.', author='Isaac Asimov', published_year=1951)\n"
     ]
    }
   ],
   "source": [
    "from dataclasses import dataclass\n",
    "from llm_core.parsers import MistralAILargeParser\n",
    "\n",
    "@dataclass\n",
    "class Book:\n",
    "    title: str\n",
    "    summary: str\n",
    "    author: str\n",
    "    published_year: int\n",
    "\n",
    "text = \"\"\"Foundation is a science fiction novel by American writer\n",
    "Isaac Asimov. It is the first published in his Foundation Trilogy (later\n",
    "expanded into the Foundation series). Foundation is a cycle of five\n",
    "interrelated short stories, first published as a single book by Gnome Press\n",
    "in 1951. Collectively they tell the early story of the Foundation,\n",
    "an institute founded by psychohistorian Hari Seldon to preserve the best\n",
    "of galactic civilization after the collapse of the Galactic Empire.\n",
    "\"\"\"\n",
    "\n",
    "with MistralAILargeParser(Book, model=model) as parser:\n",
    "    book = parser.parse(text)\n",
    "    print(book)"
   ]
  },
  {
   "cell_type": "code",
   "execution_count": 9,
   "id": "7c42cffd-4875-491b-9de7-7eb848a46e4c",
   "metadata": {},
   "outputs": [
    {
     "name": "stdout",
     "output_type": "stream",
     "text": [
      "Recipe(title='Boeuf bourguignon', steps=[RecipeStep(step_title='Preheat oven to 450 degrees F (230 degrees C).', step_instructions='Preheat your oven to 450 degrees F (230 degrees C).'), RecipeStep(step_title='Saute bacon', step_instructions='In a large Dutch oven, saute the bacon in the olive oil over medium heat until browned and crisp. Remove with a slotted spoon and set aside.'), RecipeStep(step_title='Brown the beef', step_instructions='Dry the beef cubes with paper towels to ensure even browning. Brown the beef in the bacon fat in the Dutch oven, a few pieces at a time. Remove the browned beef and set aside with the bacon.'), RecipeStep(step_title='Saute vegetables', step_instructions='In the same Dutch oven, saute the sliced carrot and onion in the remaining bacon fat until softened. Season with salt and pepper.'), RecipeStep(step_title='Add flour', step_instructions='Stir in the flour and cook for about 1 minute.'), RecipeStep(step_title='Add wine and deglaze', step_instructions='Pour in the red wine and scrape up any browned bits from the bottom of the pan. Add the beef broth, tomato paste, garlic, thyme, and bay leaf.'), RecipeStep(step_title='Return beef and bacon', step_instructions='Return the beef and bacon to the Dutch oven, along with any accumulated juices.'), RecipeStep(step_title='Cover and bake', step_instructions='Cover the Dutch oven and bake in the preheated oven for about 4 hours, or until the beef is tender.'), RecipeStep(step_title='Add onions and mushrooms', step_instructions='Stir in the brown-braised onions and sauteed mushrooms. Cook for an additional 10 minutes.'), RecipeStep(step_title='Garnish and serve', step_instructions='Garnish with parsley and serve hot.')], ingredients=['2 tablespoons olive oil', '8 ounces bacon, diced', '3 pounds lean stewing beef, cut into 2-inch cubes', '1 carrot, sliced', '1 onion, sliced', 'Salt and pepper', '2 tablespoons flour', '3 cups red wine, such as Burgundy', '2 to 3 cups beef broth', '1 tablespoon tomato paste', '2 cloves mashed garlic', '1/2 teaspoon thyme', '1 crumbled bay leaf', '18 to 24 small white onions, brown-braised in stock', '1 pound quartered fresh mushrooms sauteed in butter', 'Parsley'])\n"
     ]
    }
   ],
   "source": [
    "from typing import List\n",
    "from dataclasses import dataclass\n",
    "\n",
    "from llm_core.assistants import MistralAILargeAssistant\n",
    "\n",
    "@dataclass\n",
    "class RecipeStep:\n",
    "    step_title: str\n",
    "    step_instructions: str\n",
    "\n",
    "@dataclass\n",
    "class Recipe:\n",
    "    system_prompt = \"You are a world-class chef\"\n",
    "    prompt = \"Write a detailed step-by-step recipe to make {dish}\"\n",
    "\n",
    "    title: str\n",
    "    steps: List[RecipeStep]\n",
    "    ingredients: List[str]\n",
    "\n",
    "\n",
    "class Chef:\n",
    "    def generate_recipe(self, dish):\n",
    "        with MistralAILargeAssistant(Recipe) as assistant:\n",
    "            recipe = assistant.process(dish=dish)\n",
    "            return recipe\n",
    "\n",
    "chef = Chef()\n",
    "recipe = chef.generate_recipe(\"Boeuf bourguignon\")\n",
    "print(recipe)"
   ]
  },
  {
   "cell_type": "code",
   "execution_count": null,
   "id": "fb6118ac-bef4-41f9-af7a-8c47849b637d",
   "metadata": {},
   "outputs": [],
   "source": []
  }
 ],
 "metadata": {
  "kernelspec": {
   "display_name": "Python 3 (ipykernel)",
   "language": "python",
   "name": "python3"
  },
  "language_info": {
   "codemirror_mode": {
    "name": "ipython",
    "version": 3
   },
   "file_extension": ".py",
   "mimetype": "text/x-python",
   "name": "python",
   "nbconvert_exporter": "python",
   "pygments_lexer": "ipython3",
   "version": "3.12.2"
  }
 },
 "nbformat": 4,
 "nbformat_minor": 5
}
