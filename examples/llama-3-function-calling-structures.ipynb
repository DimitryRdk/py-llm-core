{
 "cells": [
  {
   "cell_type": "code",
   "execution_count": 2,
   "id": "957951fd-d8fc-4d3c-9c52-0ff48cafc0c7",
   "metadata": {},
   "outputs": [
    {
     "name": "stdout",
     "output_type": "stream",
     "text": [
      "The wind you're referring to is called the \"Mistral\". It's a strong, cold, and dry wind that blows from the north or northwest across southern France, particularly in the regions of Provence, Languedoc-Roussillon, and the Mediterranean coast. The Mistral is known for its intense gusts, which can reach speeds of up to 90 km/h (56 mph) and even higher.\n",
      "\n",
      "The name \"Mistral\" comes from the Latin word \"mistrallis\", meaning \"west wind\". This wind has been an important part of the region's culture and history, with many local legends and stories surrounding its effects on agriculture, architecture, and daily life.\n",
      "\n",
      "As for dehorning oxen, it's true that the strong gusts of the Mistral can cause damage to cattle, including removing their horns. The wind is so powerful that it can even strip the bark from trees and make it difficult for people to stand upright!\n"
     ]
    }
   ],
   "source": [
    "from llm_core.llm import LLaMACPPModel\n",
    "\n",
    "# Download llama-3 gguf version from HuggingFace https://huggingface.co/NousResearch/Meta-Llama-3-8B-Instruct-GGUF/tree/main\n",
    "# Meta-Llama-3-8B-Instruct-Q4_K_M.gguf\n",
    "# Renamed to llama-3 stored in ~/.cache/py-llm-core/models\n",
    "\n",
    "llm = LLaMACPPModel(name=\"llama-3\")\n",
    "response = llm.ask('What is the name of the wind in the south of France that is so strong it dehorns the oxen ?')\n",
    "print(response.choices[0].message.content)"
   ]
  },
  {
   "cell_type": "code",
   "execution_count": 4,
   "id": "43460e27-7420-494b-bc5a-36e32ecfa3c9",
   "metadata": {},
   "outputs": [
    {
     "name": "stdout",
     "output_type": "stream",
     "text": [
      "Book(title='Foundation', summary='Foundation is a science fiction novel that is the first published in his Foundation Trilogy (later expanded into the Foundation series). It is a cycle of five interrelated short stories that tell the early story of the Foundation, an institute founded by psychohistorian Hari Seldon to preserve the best of galactic civilization after the collapse of the Galactic Empire.', author='Isaac Asimov', published_year=1951)\n"
     ]
    }
   ],
   "source": [
    "from dataclasses import dataclass\n",
    "from llm_core.parsers import LLaMACPPParser\n",
    "\n",
    "model = \"llama-3\"\n",
    "\n",
    "@dataclass\n",
    "class Book:\n",
    "    title: str\n",
    "    summary: str\n",
    "    author: str\n",
    "    published_year: int\n",
    "\n",
    "text = \"\"\"Foundation is a science fiction novel by American writer\n",
    "Isaac Asimov. It is the first published in his Foundation Trilogy (later\n",
    "expanded into the Foundation series). Foundation is a cycle of five\n",
    "interrelated short stories, first published as a single book by Gnome Press\n",
    "in 1951. Collectively they tell the early story of the Foundation,\n",
    "an institute founded by psychohistorian Hari Seldon to preserve the best\n",
    "of galactic civilization after the collapse of the Galactic Empire.\n",
    "\"\"\"\n",
    "\n",
    "with LLaMACPPParser(Book, model=model) as parser:\n",
    "    book = parser.parse(text)\n",
    "    print(book)"
   ]
  },
  {
   "cell_type": "code",
   "execution_count": null,
   "id": "f5939670-f7e1-493e-80a3-ace13ec48fd4",
   "metadata": {},
   "outputs": [],
   "source": []
  },
  {
   "cell_type": "code",
   "execution_count": 9,
   "id": "7402dd29-fb0d-4e37-9b38-d453419e52ca",
   "metadata": {},
   "outputs": [
    {
     "name": "stdout",
     "output_type": "stream",
     "text": [
      "Recipe(title='Boeuf Bourguignon Recipe', steps=[RecipeStep(step_index=1, step_title='Step 1: Cook the Bacon and Aromatics', step_ingredients=['bacon', 'onions', 'carrots', 'celery'], step_instructions='Cook the bacon in a large Dutch oven over medium heat until crispy. Remove the cooked bacon from the pot and set aside. Add the sliced onions, carrots, and celery to the pot and cook until they are tender, about 10 minutes.'), RecipeStep(step_index=2, step_title='Step 2: Sear the Beef', step_ingredients=['garlic', 'thyme', 'bay leaves'], step_instructions='Add the minced garlic to the pot and cook for 1 minute. Add the thyme and bay leaves and cook for an additional minute.'), RecipeStep(step_index=3, step_title='Step 3: Brown the Beef', step_ingredients=['beef', 'flour'], step_instructions='Add the beef to the pot in batches, if necessary, and coat with flour. Cook until browned on all sides, about 5 minutes per batch.'), RecipeStep(step_index=4, step_title='Step 4: Add Liquid and Simmer', step_ingredients=['red wine', 'beef broth'], step_instructions='Add the red wine and beef broth to the pot, scraping up any browned bits from the bottom. Bring to a boil, then reduce heat to low and simmer for 2 hours.'), RecipeStep(step_index=5, step_title='Step 5: Add Tomato Paste', step_ingredients=['tomato paste'], step_instructions='Stir in the tomato paste and continue to simmer for an additional 30 minutes.'), RecipeStep(step_index=6, step_title='Step 6: Finish and Serve', step_ingredients=['butter', 'fresh parsley'], step_instructions='Remove the pot from heat and stir in the butter. Season with salt and pepper to taste. Garnish with fresh parsley.')], ingredients=['beef', 'bacon', 'onions', 'carrots', 'celery', 'garlic', 'thyme', 'bay leaves', 'red wine', 'beef broth', 'tomato paste', 'all-purpose flour', 'butter'])\n"
     ]
    }
   ],
   "source": [
    "from dataclasses import dataclass\n",
    "from llm_core.assistants import LLaMACPPAssistant\n",
    "\n",
    "model = \"llama-3\"\n",
    "\n",
    "@dataclass\n",
    "class RecipeStep:\n",
    "    step_index: int\n",
    "    step_title: str\n",
    "    step_ingredients: list[str]\n",
    "    step_instructions: str\n",
    "\n",
    "@dataclass\n",
    "class Recipe:\n",
    "    system_prompt = \"You are a world-class chef\"\n",
    "    # I had to change my prompt and add \"JSON\" + `step_index` in the structure\n",
    "    prompt = \"Write a detailed steps of the recipe to make {dish}. Use JSON.\"\n",
    "\n",
    "    title: str\n",
    "    steps: list[RecipeStep]\n",
    "    ingredients: list[str]\n",
    "\n",
    "\n",
    "class Chef:\n",
    "    def generate_recipe(self, dish):\n",
    "        with LLaMACPPAssistant(Recipe, model=model) as assistant:\n",
    "            recipe = assistant.process(dish=dish)\n",
    "            return recipe\n",
    "\n",
    "chef = Chef()\n",
    "recipe = chef.generate_recipe(\"Boeuf bourguignon\")\n",
    "\n",
    "print(recipe)"
   ]
  },
  {
   "cell_type": "code",
   "execution_count": null,
   "id": "30dff332-e2c0-4df4-9869-3a29bc31f712",
   "metadata": {},
   "outputs": [],
   "source": []
  },
  {
   "cell_type": "code",
   "execution_count": null,
   "id": "eaa9460a-c0f3-453f-bb80-c8d3e81e7f38",
   "metadata": {},
   "outputs": [],
   "source": []
  },
  {
   "cell_type": "code",
   "execution_count": null,
   "id": "7c42cffd-4875-491b-9de7-7eb848a46e4c",
   "metadata": {},
   "outputs": [],
   "source": []
  },
  {
   "cell_type": "code",
   "execution_count": null,
   "id": "fb6118ac-bef4-41f9-af7a-8c47849b637d",
   "metadata": {},
   "outputs": [],
   "source": []
  }
 ],
 "metadata": {
  "kernelspec": {
   "display_name": "Python 3 (ipykernel)",
   "language": "python",
   "name": "python3"
  },
  "language_info": {
   "codemirror_mode": {
    "name": "ipython",
    "version": 3
   },
   "file_extension": ".py",
   "mimetype": "text/x-python",
   "name": "python",
   "nbconvert_exporter": "python",
   "pygments_lexer": "ipython3",
   "version": "3.12.2"
  }
 },
 "nbformat": 4,
 "nbformat_minor": 5
}
