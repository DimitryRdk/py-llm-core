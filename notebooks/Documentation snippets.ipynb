{
 "cells": [
  {
   "cell_type": "markdown",
   "id": "eaa2b1e3-3569-47c0-ace1-e304e79debb9",
   "metadata": {},
   "source": [
    "# Documentation snippets\n",
    "## Quick start\n",
    "\n",
    "```shell\n",
    "pip install py-llm-core\n",
    "\n",
    "#: To use OpenAI models, set your API key\n",
    "export OPENAI_API_KEY=sk-<replace with your actual api key>\n",
    "\n",
    "#: To use MistralAI models, set your API key\n",
    "export MISTRAL_API_KEY=sk-<replace with your actual api key>\n",
    "\n",
    "#: To use local models (i.e. completely offline),\n",
    "#: download and store your models in ~/.cache/py-llm-core/models/\n",
    "#: You may change this directory by setting the environment variable MODELS_CACHE_DIR\n",
    "#: See the src/settings.py module\n",
    "\n",
    "#: The following commands download the best models (you can use any GGUF models)\n",
    "#: LLaMA-3.1-8B (Quantized version Q4_K_M)\n",
    "#: Mistral 7B v0.3 (Quantized version Q4_K_M)\n",
    "\n",
    "mkdir -p ~/.cache/py-llm-core/models\n",
    "wget -O ~/.cache/py-llm-core/models/llama-8b-3.1-q4 \\\n",
    "    https://huggingface.co/lmstudio-community/Meta-Llama-3.1-8B-Instruct-GGUF/resolve/main/Meta-Llama-3.1-8B-Instruct-Q4_K_M.gguf?download=true\n",
    "\n",
    "wget -O ~/.cache/py-llm-core/models/mistral-7b-v0.3-q4 \\\n",
    "    https://huggingface.co/lmstudio-community/Mistral-7B-Instruct-v0.3-GGUF/resolve/main/Mistral-7B-Instruct-v0.3-Q4_K_M.gguf?download=true\n",
    "```"
   ]
  },
  {
   "cell_type": "code",
   "execution_count": 1,
   "id": "39ab0d66-e157-41eb-8d65-92923eb068bd",
   "metadata": {},
   "outputs": [],
   "source": [
    "from dataclasses import dataclass\n",
    "\n",
    "@dataclass\n",
    "class Book:\n",
    "    title: str\n",
    "    summary: str\n",
    "    author: str\n",
    "    published_year: int\n",
    "\n",
    "@dataclass\n",
    "class BookCollection:\n",
    "    books: list[Book]\n",
    "\n",
    "\n",
    "text = \"\"\"The Foundation series is a science fiction book series written by\n",
    "American author Isaac Asimov. First published as a series of short\n",
    "stories and novellas in 1942–50, and subsequently in three books in\n",
    "1951–53, for nearly thirty years the series was widely known as The\n",
    "Foundation Trilogy: Foundation (1951), Foundation and Empire (1952),\n",
    "and Second Foundation (1953). It won the one-time Hugo Award for \"Best\n",
    "All-Time Series\" in 1966. Asimov later added new volumes, with two\n",
    "sequels, Foundation's Edge (1982) and Foundation and Earth (1986), and\n",
    "two prequels, Prelude to Foundation (1988) and Forward the Foundation\n",
    "(1993).\n",
    "\n",
    "The premise of the stories is that in the waning days of a future\n",
    "Galactic Empire, the mathematician Hari Seldon devises the theory of\n",
    "psychohistory, a new and effective mathematics of sociology. Using\n",
    "statistical laws of mass action, it can predict the future of large\n",
    "populations. Seldon foresees the imminent fall of the Empire, which\n",
    "encompasses the entire Milky Way, and a dark age lasting 30,000 years\n",
    "before a second empire arises. Although the momentum of the Empire's\n",
    "fall is too great to stop, Seldon devises a plan by which \"the\n",
    "onrushing mass of events must be deflected just a little\" to\n",
    "eventually limit this interregnum to just one thousand years. The\n",
    "books describe some of the dramatic events of those years as they are\n",
    "shaped by the underlying political and social mechanics of Seldon's\n",
    "Plan.\n",
    "\"\"\"\n"
   ]
  },
  {
   "cell_type": "code",
   "execution_count": 2,
   "id": "de65629d-cd4a-4acb-b08e-445d2464f111",
   "metadata": {},
   "outputs": [
    {
     "name": "stdout",
     "output_type": "stream",
     "text": [
      "Book(title='Foundation', summary=\"The first book in the series, published in 1951, follows the early stages of the Foundation and the implementation of Hari Seldon's psychohistory.\", author='Isaac Asimov', published_year=1951)\n",
      "Book(title='Foundation and Empire', summary='The second book, published in 1952, continues the story of the Foundation and introduces new characters and conflicts.', author='Isaac Asimov', published_year=1952)\n",
      "Book(title='Second Foundation', summary=\"The third book, published in 1953, focuses on the mysterious Second Foundation and its role in Seldon's Plan.\", author='Isaac Asimov', published_year=1953)\n",
      "Book(title=\"Foundation's Edge\", summary='The fourth book, published in 1982, is a sequel to the original trilogy and follows the Foundation as it searches for the Second Foundation.', author='Isaac Asimov', published_year=1982)\n",
      "Book(title='Foundation and Earth', summary='The fifth book, published in 1986, is another sequel to the original trilogy and follows the Foundation as it searches for Earth.', author='Isaac Asimov', published_year=1986)\n",
      "Book(title='Prelude to Foundation', summary=\"The sixth book, published in 1988, is a prequel to the original trilogy and tells the story of Hari Seldon's early life and the development of psychohistory.\", author='Isaac Asimov', published_year=1988)\n",
      "Book(title='Forward the Foundation', summary='The seventh book, published in 1993, is another prequel to the original trilogy and continues the story of Hari Seldon and the early days of the Foundation.', author='Isaac Asimov', published_year=1993)\n"
     ]
    }
   ],
   "source": [
    "from llm_core.parsers import OpenWeightsParser\n",
    "\n",
    "# default model is \"mistral-7b-v0.3-q4\"\n",
    "with OpenWeightsParser(BookCollection) as parser:\n",
    "    books_collection = parser.parse(text)\n",
    "\n",
    "    for book in books_collection.books:\n",
    "        print(book)"
   ]
  },
  {
   "cell_type": "code",
   "execution_count": 3,
   "id": "ff0e776c-f48a-43b9-b4d2-884c1e249aa7",
   "metadata": {},
   "outputs": [
    {
     "name": "stdout",
     "output_type": "stream",
     "text": [
      "Book(title='Foundation', summary=\"The first book in the Foundation series, it introduces the concept of psychohistory and the mathematician Hari Seldon's plan to save civilization from a dark age.\", author='Isaac Asimov', published_year=1951)\n",
      "Book(title='Foundation and Empire', summary='The second book in the series, it explores the challenges faced by the Foundation as it encounters the remnants of the Galactic Empire and the emergence of the Mule, a powerful mutant.', author='Isaac Asimov', published_year=1952)\n",
      "Book(title='Second Foundation', summary=\"The concluding book of the original trilogy, it follows the search for the mysterious Second Foundation and the struggle against the Mule's influence.\", author='Isaac Asimov', published_year=1953)\n",
      "Book(title=\"Foundation's Edge\", summary='A sequel to the original trilogy, it follows Golan Trevize as he seeks the location of the mythical Second Foundation and questions the future of the Foundation.', author='Isaac Asimov', published_year=1982)\n",
      "Book(title='Foundation and Earth', summary='The second sequel, it continues the journey of Golan Trevize as he searches for the origins of humanity and the fate of the Foundation.', author='Isaac Asimov', published_year=1986)\n",
      "Book(title='Prelude to Foundation', summary=\"A prequel to the original trilogy, it details Hari Seldon's early life and the development of psychohistory.\", author='Isaac Asimov', published_year=1988)\n",
      "Book(title='Forward the Foundation', summary='Another prequel, it chronicles the later years of Hari Seldon as he works to establish the Foundation and faces personal and political challenges.', author='Isaac Asimov', published_year=1993)\n"
     ]
    }
   ],
   "source": [
    "from llm_core.parsers import OpenAIParser\n",
    "\n",
    "# default model is \"gpt-4o-mini\"\n",
    "with OpenAIParser(BookCollection) as parser:\n",
    "    books_collection = parser.parse(text)\n",
    "    \n",
    "    for book in books_collection.books:\n",
    "        print(book)"
   ]
  },
  {
   "cell_type": "code",
   "execution_count": 4,
   "id": "ffd0064e-c76e-4b2e-8555-517f992d5e1b",
   "metadata": {},
   "outputs": [
    {
     "name": "stdout",
     "output_type": "stream",
     "text": [
      "Book(title='Foundation', summary='The first book in the series, it introduces the concept of psychohistory and the fall of the Galactic Empire, as well as the plan devised by Hari Seldon to shorten the impending dark age.', author='Isaac Asimov', published_year=1951)\n",
      "Book(title='Foundation and Empire', summary='The second book continues the story of the Foundation as it faces challenges from the remnants of the Galactic Empire and the emergence of the Mule, a mutant with the ability to manipulate emotions.', author='Isaac Asimov', published_year=1952)\n",
      "Book(title='Second Foundation', summary=\"The third book reveals the existence of the Second Foundation, a secretive group of mentalics who work to protect Seldon's plan from being derailed by the Mule.\", author='Isaac Asimov', published_year=1953)\n",
      "Book(title=\"Foundation's Edge\", summary=\"Set several centuries after the original trilogy, this sequel explores the search for the mythical Second Foundation and the implications of Seldon's plan in a changing galaxy.\", author='Isaac Asimov', published_year=1982)\n",
      "Book(title='Foundation and Earth', summary=\"The sequel to Foundation's Edge, this book follows the quest to find Earth, the mythical origin of humanity, and further explores the themes of psychohistory and the future of the galaxy.\", author='Isaac Asimov', published_year=1986)\n",
      "Book(title='Prelude to Foundation', summary=\"A prequel that delves into the early life of Hari Seldon and the development of psychohistory, set against the backdrop of the Galactic Empire's decline.\", author='Isaac Asimov', published_year=1988)\n",
      "Book(title='Forward the Foundation', summary=\"Another prequel that continues to explore Seldon's life and the challenges he faces in establishing his plan for the future of humanity.\", author='Isaac Asimov', published_year=1993)\n"
     ]
    }
   ],
   "source": [
    "# Using Azure\n",
    "from llm_core.llm import AzureOpenAIChatModel\n",
    "from llm_core.parsers import OpenAIParser\n",
    "\n",
    "# default model is \"gpt-4o-mini\"\n",
    "with OpenAIParser(BookCollection, model_cls=AzureOpenAIChatModel) as parser:\n",
    "    books_collection = parser.parse(text)\n",
    "    \n",
    "    for book in books_collection.books:\n",
    "        print(book)"
   ]
  },
  {
   "cell_type": "code",
   "execution_count": 5,
   "id": "a1ecd2f0-a5a6-4070-b0f2-8a9060cf0e62",
   "metadata": {},
   "outputs": [
    {
     "name": "stdout",
     "output_type": "stream",
     "text": [
      "Book(title='Foundation', summary=\"Foundation series is a science fiction book series written by American author Isaac Asimov. First published as a series of short stories and novellas in 1942–50, and subsequently in three books in 1951–53, for nearly thirty years the series was widely known as The Foundation Trilogy: Foundation (1951), Foundation and Empire (1952), and Second Foundation (1953). It won the one-time Hugo Award for Best All-Time Series in 1966. Asimov later added new volumes, with two sequels, Foundation's Edge (1982) and Foundation and Earth (1986), and two prequels, Prelude to Foundation (1988) and Forward the Foundation (1993). The premise of the stories is that in the waning days of a future Galactic Empire, the mathematician Hari Seldon devises the theory of psychohistory, a new and effective mathematics of sociology. Using statistical laws of mass action, it can predict the future of large populations. Seldon foresees the imminent fall of the Empire, which encompasses the entire Milky Way, and a dark age lasting 30,000 years before a second empire arises. Although the momentum of the Empire's fall is too great to stop, Seldon devises a plan by which the onrushing mass of events must be deflected just a little to eventually limit this interregnum to just one thousand years. The books describe some of the dramatic events of those years as they are shaped by the underlying political and social mechanics of Seldon's Plan.\", author='Isaac Asimov', published_year=1951)\n"
     ]
    }
   ],
   "source": [
    "from llm_core.parsers import MistralAIParser\n",
    "\n",
    "# default model is \"open-mistral-nemo\"\n",
    "with MistralAIParser(BookCollection) as parser:\n",
    "    books_collection = parser.parse(text)\n",
    "    \n",
    "    for book in books_collection.books:\n",
    "        print(book)"
   ]
  },
  {
   "cell_type": "code",
   "execution_count": 13,
   "id": "0bc1aaa0-96c2-4a39-9eb4-2d8cb103431a",
   "metadata": {},
   "outputs": [
    {
     "name": "stdout",
     "output_type": "stream",
     "text": [
      "Leon Marchand of France won the gold medal in the men's 400m individual medley at the 2024 Olympics.\n"
     ]
    }
   ],
   "source": [
    "import requests\n",
    "from decouple import config\n",
    "from dataclasses import dataclass\n",
    "\n",
    "from llm_core.llm import OpenAIChatModel\n",
    "\n",
    "\n",
    "@dataclass\n",
    "class WebSearchProvider:\n",
    "    query: str\n",
    "\n",
    "    def __call__(self):\n",
    "        url = \"https://api.search.brave.com/res/v1/web/search\"\n",
    "        headers = {\"X-Subscription-Token\": config(\"BRAVE_AI_API_KEY\")}\n",
    "        response = requests.get(\n",
    "            url,\n",
    "            headers=headers,\n",
    "            params={\n",
    "                \"q\": self.query,\n",
    "                \"extra_snippets\": True\n",
    "            }\n",
    "        )\n",
    "        return response.json()[\"web\"][\"results\"][0:5]\n",
    "\n",
    "\n",
    "providers = [WebSearchProvider]\n",
    "\n",
    "with OpenAIChatModel(name=\"gpt-4o-mini\") as llm:\n",
    "    resp = llm.ask(\n",
    "        prompt=\"Who won the 400m men individual medley at the 2024 Olympics?\",\n",
    "        tools=providers\n",
    "    )\n",
    "\n",
    "print(resp.choices[0].message.content)"
   ]
  },
  {
   "cell_type": "code",
   "execution_count": 7,
   "id": "8afa2319-147f-46ae-8e94-5500384a9acb",
   "metadata": {},
   "outputs": [
    {
     "data": {
      "text/plain": [
       "Hash(hashed_content='py-llm-core', hash_algorithm=<HashFunction.sha256: 2>, hash_value='38ec92d973268cb671e9cd98a2f5a7b8c4d451d87b61670c1fe236fd7777f708')"
      ]
     },
     "execution_count": 7,
     "metadata": {},
     "output_type": "execute_result"
    }
   ],
   "source": [
    "import hashlib\n",
    "from enum import Enum\n",
    "from dataclasses import dataclass\n",
    "from llm_core.assistants import OpenAIAssistant\n",
    "\n",
    "\n",
    "HashFunction = Enum(\"HashFunction\", [\"sha512\", \"sha256\", \"md5\"])\n",
    "\n",
    "\n",
    "@dataclass\n",
    "class HashProvider:\n",
    "    hash_function: HashFunction\n",
    "    content: str\n",
    "\n",
    "    def __call__(self):\n",
    "        hash_fn = getattr(hashlib, self.hash_function.name)\n",
    "        return hash_fn(self.content.encode('utf-8')).hexdigest()\n",
    "\n",
    "\n",
    "@dataclass\n",
    "class Hash:\n",
    "    system_prompt = \"You are a helpful assistant\"\n",
    "    prompt = \"{prompt}\"\n",
    "\n",
    "    hashed_content: str\n",
    "    hash_algorithm: HashFunction\n",
    "    hash_value: str\n",
    "\n",
    "    @classmethod\n",
    "    def ask(cls, prompt):\n",
    "        with OpenAIAssistant(cls, tools=[HashProvider]) as assistant:\n",
    "            response = assistant.process(prompt=prompt)\n",
    "            return response\n",
    "\n",
    "Hash.ask('Compute the sha256 for `py-llm-core`')"
   ]
  },
  {
   "cell_type": "code",
   "execution_count": 8,
   "id": "c739f963-df9f-47c5-bf1f-c71e005f78d2",
   "metadata": {},
   "outputs": [
    {
     "name": "stdout",
     "output_type": "stream",
     "text": [
      "Foundation is a science fiction novel by American writer\n",
      "Isaac Asimov. It is the first published in his Foundation Trilogy (later\n",
      "expanded into the Foundation series). Foundation is a cycle of five\n",
      "interrelated short stories, first published as a\n",
      " single book by Gnome Press\n",
      "in 1951. Collectively they tell the early story of the Foundation,\n",
      "an institute founded by psychohistorian Hari Seldon to preserve the best\n",
      "of galactic civilization after the collapse of the Galactic Empire.\n",
      "\n"
     ]
    }
   ],
   "source": [
    "from llm_core.splitters import TokenSplitter\n",
    "import codecs\n",
    "\n",
    "text = \"\"\"Foundation is a science fiction novel by American writer\n",
    "Isaac Asimov. It is the first published in his Foundation Trilogy (later\n",
    "expanded into the Foundation series). Foundation is a cycle of five\n",
    "interrelated short stories, first published as a single book by Gnome Press\n",
    "in 1951. Collectively they tell the early story of the Foundation,\n",
    "an institute founded by psychohistorian Hari Seldon to preserve the best\n",
    "of galactic civilization after the collapse of the Galactic Empire.\n",
    "\"\"\"\n",
    "\n",
    "# You can encode the text into tokens like that:\n",
    "tokens = codecs.encode(text, 'tiktoken')\n",
    "token_length = len(tokens)\n",
    "\n",
    "# Chunking and splitting\n",
    "splitter = TokenSplitter(\n",
    "    chunk_size=50,\n",
    "    chunk_overlap=0\n",
    ")\n",
    "\n",
    "for chunk in splitter.chunkify(text):\n",
    "    print(chunk)"
   ]
  },
  {
   "cell_type": "code",
   "execution_count": null,
   "id": "2f733b7d-1c8d-495a-a0e9-33fa843c9191",
   "metadata": {},
   "outputs": [],
   "source": []
  },
  {
   "cell_type": "code",
   "execution_count": null,
   "id": "b9306d93-781f-465d-a03b-d7de8dbbedaa",
   "metadata": {},
   "outputs": [],
   "source": []
  },
  {
   "cell_type": "code",
   "execution_count": null,
   "id": "3bb573c7-c79f-4e9d-ab44-51d2446515e1",
   "metadata": {},
   "outputs": [],
   "source": []
  },
  {
   "cell_type": "code",
   "execution_count": 10,
   "id": "0f454f2c-4fc3-4e7b-8d31-f6cdac8f62a9",
   "metadata": {},
   "outputs": [
    {
     "data": {
      "text/plain": [
       "UserQuery(operation=<CRUDOperation.DELETE: 4>, target=<TargetItem.MEETING: 4>)"
      ]
     },
     "execution_count": 10,
     "metadata": {},
     "output_type": "execute_result"
    }
   ],
   "source": [
    "from enum import Enum\n",
    "from dataclasses import dataclass\n",
    "from llm_core.assistants import OpenWeightsAssistant\n",
    "\n",
    "class TargetItem(Enum):\n",
    "    PROJECT = 1\n",
    "    TASK = 2\n",
    "    COMMENT = 3\n",
    "    MEETING = 4\n",
    "\n",
    "\n",
    "class CRUDOperation(Enum):\n",
    "    CREATE = 1\n",
    "    READ = 2\n",
    "    UPDATE = 3\n",
    "    DELETE = 4\n",
    "\n",
    "\n",
    "@dataclass\n",
    "class UserQuery:\n",
    "    system_prompt = \"You are a helpful assistant.\"\n",
    "    prompt = \"\"\"\n",
    "    Analyze the user's query and convert his intent to:\n",
    "    - an operation (among CRUD)\n",
    "    - a target item\n",
    "\n",
    "    Query: {prompt}\n",
    "    \"\"\"\n",
    "    operation: CRUDOperation\n",
    "    target: TargetItem\n",
    "\n",
    "\n",
    "def ask(prompt):\n",
    "    with OpenWeightsAssistant(UserQuery, model=\"llama-8b-3.1-q4\", loader_kwargs={\"n_ctx\": 4_000}) as assistant:\n",
    "        user_query = assistant.process(prompt=prompt)\n",
    "        return user_query\n",
    "\n",
    "ask('Cancel all my meetings for the week')"
   ]
  },
  {
   "cell_type": "code",
   "execution_count": null,
   "id": "7a8e2da0-f2a5-4d60-af35-40985461ead1",
   "metadata": {},
   "outputs": [],
   "source": []
  },
  {
   "cell_type": "code",
   "execution_count": null,
   "id": "21f0be7f-1d4d-470c-904a-fd827b82714b",
   "metadata": {},
   "outputs": [],
   "source": []
  },
  {
   "cell_type": "code",
   "execution_count": 12,
   "id": "4306b67f-ed9b-4df1-b9ea-4471da012afa",
   "metadata": {},
   "outputs": [
    {
     "data": {
      "text/plain": [
       "SmarterGPT(content=\"There are 3 occurrences of the letter 'r' in the word 'strawberry'.\")"
      ]
     },
     "execution_count": 12,
     "metadata": {},
     "output_type": "execute_result"
    }
   ],
   "source": [
    "from dataclasses import dataclass\n",
    "from llm_core.assistants import OpenAIAssistant\n",
    "\n",
    "@dataclass\n",
    "class LetterCounter:\n",
    "    letter: str\n",
    "    content: str\n",
    "\n",
    "    def __call__(self):\n",
    "        return self.content.count(self.letter)\n",
    "\n",
    "@dataclass\n",
    "class SmarterGPT:\n",
    "    system_prompt = \"You are a helpful assistant\"\n",
    "    prompt = \"{prompt}\"\n",
    "\n",
    "    content: str\n",
    "\n",
    "    @classmethod\n",
    "    def ask(cls, prompt):\n",
    "        with OpenAIAssistant(cls, model=\"gpt-4o-mini\") as assistant:\n",
    "            assistant.tools = [LetterCounter]\n",
    "            response = assistant.process(prompt=prompt)\n",
    "            return response\n",
    "\n",
    "SmarterGPT.ask('How many \"r\" are in strawberry ?')"
   ]
  },
  {
   "cell_type": "code",
   "execution_count": null,
   "id": "55b25757-4276-4b4d-8739-74640b08dac6",
   "metadata": {},
   "outputs": [],
   "source": []
  }
 ],
 "metadata": {
  "kernelspec": {
   "display_name": "Python 3 (ipykernel)",
   "language": "python",
   "name": "python3"
  },
  "language_info": {
   "codemirror_mode": {
    "name": "ipython",
    "version": 3
   },
   "file_extension": ".py",
   "mimetype": "text/x-python",
   "name": "python",
   "nbconvert_exporter": "python",
   "pygments_lexer": "ipython3",
   "version": "3.12.4"
  }
 },
 "nbformat": 4,
 "nbformat_minor": 5
}
